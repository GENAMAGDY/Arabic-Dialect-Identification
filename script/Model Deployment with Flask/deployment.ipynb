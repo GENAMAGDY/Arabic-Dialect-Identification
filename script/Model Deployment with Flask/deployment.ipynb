{
 "cells": [
  {
   "cell_type": "code",
   "execution_count": null,
   "metadata": {},
   "outputs": [
    {
     "name": "stdout",
     "output_type": "stream",
     "text": [
      " * Serving Flask app \"__main__\" (lazy loading)\n",
      " * Environment: production\n",
      "   WARNING: This is a development server. Do not use it in a production deployment.\n",
      "   Use a production WSGI server instead.\n",
      " * Debug mode: on\n"
     ]
    },
    {
     "name": "stderr",
     "output_type": "stream",
     "text": [
      "[nltk_data] Downloading package punkt to\n",
      "[nltk_data]     C:\\Users\\original\\AppData\\Roaming\\nltk_data...\n",
      "[nltk_data]   Package punkt is already up-to-date!\n",
      " * Running on http://127.0.0.1:5000/ (Press CTRL+C to quit)\n",
      "127.0.0.1 - - [13/Mar/2022 20:42:10] \"\u001b[37mGET / HTTP/1.1\u001b[0m\" 200 -\n",
      "127.0.0.1 - - [13/Mar/2022 20:42:22] \"\u001b[37mPOST /prediction HTTP/1.1\u001b[0m\" 200 -\n",
      "127.0.0.1 - - [13/Mar/2022 20:42:34] \"\u001b[37mPOST /prediction HTTP/1.1\u001b[0m\" 200 -\n",
      "127.0.0.1 - - [13/Mar/2022 20:42:57] \"\u001b[37mPOST /prediction HTTP/1.1\u001b[0m\" 200 -\n",
      "127.0.0.1 - - [13/Mar/2022 20:43:10] \"\u001b[37mPOST /prediction HTTP/1.1\u001b[0m\" 200 -\n",
      "127.0.0.1 - - [13/Mar/2022 20:43:22] \"\u001b[37mPOST /prediction HTTP/1.1\u001b[0m\" 200 -\n"
     ]
    }
   ],
   "source": [
    "from flask import Flask, render_template, request\n",
    "import pandas as pd\n",
    "import re\n",
    "from nltk import word_tokenize\n",
    "from tashaphyne.normalize import normalize_searchtext\n",
    "import joblib\n",
    "\n",
    "import nltk\n",
    "nltk.download('punkt')\n",
    "\n",
    "app = Flask(__name__, template_folder='../Model Deployment with Flask')\n",
    "\n",
    "stop_words =['من','في','على', 'و','فى','يا', 'عن','مع','ان','هو','علي','ما','اللي','كل',\n",
    " 'بعد','ده','اليوم', 'أن','يوم','انا','إلى','كان','ايه','اللى','الى','دي','بين','انت','أنا','حتى','لما','فيه','هذا','واحد','احنا','اي','كده',\n",
    " 'إن','او','أو','عليه','ف','دى','مين','الي','كانت','أمام','زي','يكون','خلال','ع','كنت','هي','فيها','عند','التي','الذي','قال','هذه','قد','انه','ريتويت','بعض','أول','ايه',\n",
    " 'الان','أي','منذ','عليها','له','ال','تم','ب','دة','عليك'\n",
    " ,'اى','كلها','اللتى','هى','دا','انك','وهو', 'ومن','منك','نحن','زى','أنت','انهم','معانا','حتي','وانا','عنه','إلي','ونحن','وانت','منكم','وان','معاهم','معايا','وأنا','عنها','إنه',\n",
    " 'اني','معك','اننا','فيهم','د','انتا','عنك','وهى','معا','آن','انتي','وأنت','وإن','ومع','وعن','معاكم','معاكو','معاها','وعليه','وانتم','وانتي','¿','|']\n",
    "\n",
    "classes={0:'IQ', 1:'LY', 2:'QA', 3:'PL', 4:'SY', 5:'TN', 6:'JO', 7:'MA', 8:'SA', 9:'YE', 10:'DZ',\n",
    "       11:'EG', 12:'LB', 13:'KW', 14:'OM', 15:'SD', 16:'AE', 17:'BH'}\n",
    "\n",
    "@app.route('/')\n",
    "def get_text():\n",
    "    return render_template(\"index.html\")\n",
    "\n",
    "@app.route(\"/prediction\", methods=[\"POST\"])\n",
    "def prediction():\n",
    "    cvec = joblib.load('CountVectorizer.sav') \n",
    "    model = joblib.load('LogisticRegrassion_CV.sav')\n",
    "\n",
    "    txt = request.form.get('text')\n",
    "    text = re.sub(\"@\\s[W+]\\s\",'', txt)    #remove @username\n",
    "    text = re.sub(\"http\\S+\\s*\",'', text)  #remove links http:------\n",
    "    text = re.sub(\"[a-zA-Z0-9]\",'', text)  #remove all non-arabic\n",
    "    text = re.sub('[%s]' % re.escape(\"\"\"!\"#$%&'()*+,،-./:;<=>؟?@[\\]^_`{|}~\"\"\"),'', text) \n",
    "    text = re.sub(\"[(\\U0001F600-\\U0001F92F|\\U0001F300-\\U0001F5FF|\\U0001F680-\\U0001F6FF|\\U0001F190-\\U0001F1FF|\\U00002702-\\U000027B0|\\U0001F926-\\U0001FA9F|\\u200d|\\u2640-\\u2642|\\u2600-\\u2B55|\\u23cf|\\u23e9|\\u231a|\\ufe0f)]+\",\n",
    "                                                  '', text) #remove emotions\n",
    "    text = re.sub(r'(.)\\1+', r'\\1', text)  #remove repeating letters\n",
    "    text = text.rstrip()\n",
    "\n",
    "    original_words = []\n",
    "    words = word_tokenize(text)\n",
    "    for word in words:\n",
    "        if word not in stop_words:\n",
    "            original_words.append(word)\n",
    "    text = \" \".join(original_words)\n",
    "\n",
    "    text = normalize_searchtext(text)\n",
    "    text_cvec= cvec.transform([text])\n",
    "    predict = classes[model.predict(text_cvec)[0]]\n",
    "    return render_template(\"index.html\" ,data=\"Prediction : \"+predict,txt=\"Text : \"+txt)\n",
    "    \n",
    "if __name__ == \"__main__\":\n",
    "    app.run(debug=True, use_reloader=False)"
   ]
  },
  {
   "cell_type": "code",
   "execution_count": null,
   "metadata": {},
   "outputs": [],
   "source": []
  }
 ],
 "metadata": {
  "kernelspec": {
   "display_name": "Python 3",
   "language": "python",
   "name": "python3"
  },
  "language_info": {
   "codemirror_mode": {
    "name": "ipython",
    "version": 3
   },
   "file_extension": ".py",
   "mimetype": "text/x-python",
   "name": "python",
   "nbconvert_exporter": "python",
   "pygments_lexer": "ipython3",
   "version": "3.8.5"
  }
 },
 "nbformat": 4,
 "nbformat_minor": 4
}
